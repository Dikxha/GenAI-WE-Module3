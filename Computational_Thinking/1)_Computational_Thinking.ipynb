{
  "nbformat": 4,
  "nbformat_minor": 0,
  "metadata": {
    "colab": {
      "provenance": []
    },
    "kernelspec": {
      "name": "python3",
      "display_name": "Python 3"
    },
    "language_info": {
      "name": "python"
    }
  },
  "cells": [
    {
      "cell_type": "code",
      "execution_count": 2,
      "metadata": {
        "colab": {
          "base_uri": "https://localhost:8080/"
        },
        "id": "CgCRVB-5MyRl",
        "outputId": "f2e90047-92ef-455b-add8-d0e63750d543"
      },
      "outputs": [
        {
          "output_type": "stream",
          "name": "stdout",
          "text": [
            "Writing IdliDistribution_Greedy.cpp\n"
          ]
        }
      ],
      "source": [
        "%%writefile IdliDistribution_Greedy.cpp\n",
        "#include <iostream>\n",
        "#include <vector>\n",
        "\n",
        "int minIdlisDistribution(const std::vector<int>& idlis) {\n",
        "    int n = idlis.size();\n",
        "    int totalIdlis = 0;\n",
        "\n",
        "    for (int idli : idlis) {\n",
        "        totalIdlis += idli;\n",
        "    }\n",
        "\n",
        "    if (totalIdlis % 2 != 0) {\n",
        "        return -1; // Total idlis must be even to satisfy the condition\n",
        "    }\n",
        "\n",
        "    std::vector<int> idlisCopy = idlis; // Create a copy of the input vector\n",
        "    int minDistributedIdlis = 0;\n",
        "    for (int i = 0; i < n; ++i) {\n",
        "        if (idlisCopy[i] % 2 != 0) {\n",
        "            if (i == n - 1 || idlisCopy[i + 1] % 2 == 0) {\n",
        "                return -1; // Impossible to distribute idlis satisfying the condition\n",
        "            }\n",
        "            idlisCopy[i]++;\n",
        "            idlisCopy[i + 1]++;\n",
        "            minDistributedIdlis += 2;\n",
        "        }\n",
        "    }\n",
        "    return minDistributedIdlis;\n",
        "}\n",
        "\n",
        "int main() {\n",
        "    std::vector<std::vector<int>> testCases = {\n",
        "        {2, 3, 1, 4, 2},\n",
        "        {2, 2, 2, 2},\n",
        "        {1, 3, 2, 5},\n",
        "        {1, 1, 1, 1, 1}\n",
        "    };\n",
        "\n",
        "    for (int i = 0; i < testCases.size(); ++i) {\n",
        "        int minIdlis = minIdlisDistribution(testCases[i]);\n",
        "        std::cout << \"Test case \" << i + 1 << \": \";\n",
        "        if (minIdlis == -1) {\n",
        "            std::cout << \"Impossible to distribute idlis satisfying the condition.\\n\";\n",
        "        } else {\n",
        "            std::cout << \"Minimum number of idlis to distribute: \" << minIdlis << \"\\n\";\n",
        "        }\n",
        "    }\n",
        "\n",
        "    return 0;\n",
        "}"
      ]
    },
    {
      "cell_type": "code",
      "source": [
        "! g++ IdliDistribution_Greedy.cpp -o IdliDistribution_Greedy"
      ],
      "metadata": {
        "id": "Jeq4vxnZNA4k"
      },
      "execution_count": 5,
      "outputs": []
    },
    {
      "cell_type": "code",
      "source": [
        "! ./IdliDistribution_Greedy"
      ],
      "metadata": {
        "colab": {
          "base_uri": "https://localhost:8080/"
        },
        "id": "uF72QeAFNZBt",
        "outputId": "5f5b4e66-b2e3-4212-d089-07b67cba6183"
      },
      "execution_count": 6,
      "outputs": [
        {
          "output_type": "stream",
          "name": "stdout",
          "text": [
            "Test case 1: Minimum number of idlis to distribute: 2\n",
            "Test case 2: Minimum number of idlis to distribute: 0\n",
            "Test case 3: Impossible to distribute idlis satisfying the condition.\n",
            "Test case 4: Impossible to distribute idlis satisfying the condition.\n"
          ]
        }
      ]
    },
    {
      "cell_type": "code",
      "source": [
        "%%writefile IdliDistribution_Recursive.cpp\n",
        "#include <iostream>\n",
        "#include <vector>\n",
        "#include <string>\n",
        "\n",
        "// Function to check if idlis sum is odd or even\n",
        "bool isEvenSum(const std::vector<int>& idlis) {\n",
        "    int sum = 0;\n",
        "    for (int idli : idlis) {\n",
        "        sum += idli;\n",
        "    }\n",
        "    return sum % 2 == 0;\n",
        "}\n",
        "\n",
        "// Function to convert idlis list to a string representation\n",
        "std::string convertToQueue(const std::vector<int>& idlis) {\n",
        "    std::string queue;\n",
        "    for (int idli : idlis) {\n",
        "        queue += (idli % 2 == 1) ? 'o' : 'e';\n",
        "    }\n",
        "    return queue;\n",
        "}\n",
        "\n",
        "// Function to distribute idlis\n",
        "int distributeB(const std::string& queue) {\n",
        "    if (queue.length() < 2) {\n",
        "        return 0;\n",
        "    }\n",
        "    if (queue.substr(0, 2) == \"ee\") {\n",
        "        return distributeB(queue.substr(2));\n",
        "    }\n",
        "    if (queue.substr(0, 2) == \"oo\") {\n",
        "        return 2 + distributeB(queue.substr(2));\n",
        "    }\n",
        "    if (queue[0] == 'e') {\n",
        "        return distributeB(queue.substr(1));\n",
        "    }\n",
        "    return 2 + distributeB(\"o\" + queue.substr(2));\n",
        "}\n",
        "\n",
        "// Main function to distribute idlis\n",
        "int distributeA(const std::vector<int>& idlis) {\n",
        "    if (!isEvenSum(idlis)) {\n",
        "        return -1;\n",
        "    }\n",
        "    std::string queue = convertToQueue(idlis);\n",
        "    return distributeB(queue);\n",
        "}\n",
        "\n",
        "int main() {\n",
        "    std::vector<std::vector<int>> testCases = {\n",
        "        {2, 3, 1, 4, 2},\n",
        "        {2, 2, 2, 2},\n",
        "        {1, 3, 2, 5},\n",
        "        {1, 1, 1, 1, 1}\n",
        "    };\n",
        "\n",
        "    for (int i = 0; i < testCases.size(); ++i) {\n",
        "        int minIdlis = distributeA(testCases[i]);\n",
        "        std::cout << \"Test case \" << i + 1 << \": \";\n",
        "        if (minIdlis == -1) {\n",
        "            std::cout << \"Impossible to distribute idlis satisfying the condition.\\n\";\n",
        "        } else {\n",
        "            std::cout << \"Minimum number of idlis to distribute: \" << minIdlis << \"\\n\";\n",
        "        }\n",
        "    }\n",
        "\n",
        "    return 0;\n",
        "}"
      ],
      "metadata": {
        "colab": {
          "base_uri": "https://localhost:8080/"
        },
        "id": "hvKKpUYWNpuP",
        "outputId": "6232b2e9-dbd7-455e-9615-e18dd35ecd25"
      },
      "execution_count": 7,
      "outputs": [
        {
          "output_type": "stream",
          "name": "stdout",
          "text": [
            "Writing IdliDistribution_Recursive.cpp\n"
          ]
        }
      ]
    },
    {
      "cell_type": "code",
      "source": [
        "! g++ IdliDistribution_Recursive.cpp -o IdliDistribution_Recursive"
      ],
      "metadata": {
        "id": "HKPpK5V6N0Ib"
      },
      "execution_count": 8,
      "outputs": []
    },
    {
      "cell_type": "code",
      "source": [
        "! ./IdliDistribution_Recursive"
      ],
      "metadata": {
        "colab": {
          "base_uri": "https://localhost:8080/"
        },
        "id": "KW5U1z2oN6G0",
        "outputId": "4fccc17c-2a37-4835-cbe0-348f99ceb468"
      },
      "execution_count": 9,
      "outputs": [
        {
          "output_type": "stream",
          "name": "stdout",
          "text": [
            "Test case 1: Minimum number of idlis to distribute: 2\n",
            "Test case 2: Minimum number of idlis to distribute: 0\n",
            "Test case 3: Impossible to distribute idlis satisfying the condition.\n",
            "Test case 4: Impossible to distribute idlis satisfying the condition.\n"
          ]
        }
      ]
    }
  ]
}